{
 "cells": [
  {
   "cell_type": "markdown",
   "metadata": {},
   "source": [
    "## Predicting Customer Churns with Classification Algorithms"
   ]
  },
  {
   "cell_type": "markdown",
   "metadata": {},
   "source": [
    "The purpose of this project is to predict whether a telco customer will remain or leave the company, i.e. churn, by utilizing supervised learning in the form of classification. An example of why a company would employ this task is to identify exisiting customers that are likely to churn so they can allocate resource like promotional material in an effort to retain them. \n",
    "\n",
    "The data will be split into three set - 60% training, 20% validation, and 20% test. For this task, six classification algorthims are initially considered using cross-validation on the training set. Of those six, three are shortlisted for further modelling. For each of those models, the hyperparameters are tuned and the validation set is used to test the performance increase from the tuning. After a model is tuned, a precision and recall trade-off that is appropriate for the task is chosen for it. The final models are then tested on the validation set to compare performance. Finally, the models are tested once more on unseen data via the test set to determine the best performing model. "
   ]
  },
  {
   "cell_type": "code",
   "execution_count": 314,
   "metadata": {},
   "outputs": [],
   "source": [
    "import numpy as np\n",
    "import pandas as pd\n",
    "import matplotlib.pyplot as plt \n",
    "%matplotlib inline\n",
    "import seaborn as sns\n",
    "\n",
    "# Cross Validation\n",
    "from sklearn.model_selection import RepeatedStratifiedKFold, StratifiedKFold, train_test_split\n",
    "from sklearn.model_selection import GridSearchCV\n",
    "from sklearn.preprocessing import StandardScaler\n",
    "\n",
    "# Classifiers \n",
    "from sklearn.linear_model import LogisticRegression\n",
    "from sklearn.tree import DecisionTreeClassifier\n",
    "from sklearn.ensemble import RandomForestClassifier, GradientBoostingClassifier\n",
    "from sklearn.neighbors import KNeighborsClassifier\n",
    "from sklearn.svm import SVC\n",
    "\n",
    "# Performance metrics\n",
    "from sklearn.metrics import classification_report, confusion_matrix\n",
    "from sklearn.metrics import precision_recall_curve\n",
    "from sklearn.metrics import f1_score, average_precision_score\n",
    "from sklearn.metrics import make_scorer\n",
    "\n",
    "# Visualizing decision tree\n",
    "from IPython.display import Image  \n",
    "from sklearn.externals.six import StringIO  \n",
    "from sklearn.tree import export_graphviz\n",
    "import pydot "
   ]
  },
  {
   "cell_type": "code",
   "execution_count": 365,
   "metadata": {},
   "outputs": [],
   "source": [
    "import warnings\n",
    "warnings.filterwarnings(\"ignore\", message=\"F-score is ill-defined and being set to 0.0 due to no predicted samples.\")\n",
    "warnings.filterwarnings(\"ignore\", category=DeprecationWarning)"
   ]
  },
  {
   "cell_type": "code",
   "execution_count": 1126,
   "metadata": {},
   "outputs": [
    {
     "data": {
      "text/html": [
       "<div>\n",
       "<style scoped>\n",
       "    .dataframe tbody tr th:only-of-type {\n",
       "        vertical-align: middle;\n",
       "    }\n",
       "\n",
       "    .dataframe tbody tr th {\n",
       "        vertical-align: top;\n",
       "    }\n",
       "\n",
       "    .dataframe thead th {\n",
       "        text-align: right;\n",
       "    }\n",
       "</style>\n",
       "<table border=\"1\" class=\"dataframe\">\n",
       "  <thead>\n",
       "    <tr style=\"text-align: right;\">\n",
       "      <th></th>\n",
       "      <th>state</th>\n",
       "      <th>account length</th>\n",
       "      <th>area code</th>\n",
       "      <th>phone number</th>\n",
       "      <th>international plan</th>\n",
       "      <th>voice mail plan</th>\n",
       "      <th>number vmail messages</th>\n",
       "      <th>total day minutes</th>\n",
       "      <th>total day calls</th>\n",
       "      <th>total day charge</th>\n",
       "      <th>...</th>\n",
       "      <th>total eve calls</th>\n",
       "      <th>total eve charge</th>\n",
       "      <th>total night minutes</th>\n",
       "      <th>total night calls</th>\n",
       "      <th>total night charge</th>\n",
       "      <th>total intl minutes</th>\n",
       "      <th>total intl calls</th>\n",
       "      <th>total intl charge</th>\n",
       "      <th>customer service calls</th>\n",
       "      <th>churn</th>\n",
       "    </tr>\n",
       "  </thead>\n",
       "  <tbody>\n",
       "    <tr>\n",
       "      <th>0</th>\n",
       "      <td>KS</td>\n",
       "      <td>128</td>\n",
       "      <td>415</td>\n",
       "      <td>382-4657</td>\n",
       "      <td>no</td>\n",
       "      <td>yes</td>\n",
       "      <td>25</td>\n",
       "      <td>265.1</td>\n",
       "      <td>110</td>\n",
       "      <td>45.07</td>\n",
       "      <td>...</td>\n",
       "      <td>99</td>\n",
       "      <td>16.78</td>\n",
       "      <td>244.7</td>\n",
       "      <td>91</td>\n",
       "      <td>11.01</td>\n",
       "      <td>10.0</td>\n",
       "      <td>3</td>\n",
       "      <td>2.70</td>\n",
       "      <td>1</td>\n",
       "      <td>False</td>\n",
       "    </tr>\n",
       "    <tr>\n",
       "      <th>1</th>\n",
       "      <td>OH</td>\n",
       "      <td>107</td>\n",
       "      <td>415</td>\n",
       "      <td>371-7191</td>\n",
       "      <td>no</td>\n",
       "      <td>yes</td>\n",
       "      <td>26</td>\n",
       "      <td>161.6</td>\n",
       "      <td>123</td>\n",
       "      <td>27.47</td>\n",
       "      <td>...</td>\n",
       "      <td>103</td>\n",
       "      <td>16.62</td>\n",
       "      <td>254.4</td>\n",
       "      <td>103</td>\n",
       "      <td>11.45</td>\n",
       "      <td>13.7</td>\n",
       "      <td>3</td>\n",
       "      <td>3.70</td>\n",
       "      <td>1</td>\n",
       "      <td>False</td>\n",
       "    </tr>\n",
       "    <tr>\n",
       "      <th>2</th>\n",
       "      <td>NJ</td>\n",
       "      <td>137</td>\n",
       "      <td>415</td>\n",
       "      <td>358-1921</td>\n",
       "      <td>no</td>\n",
       "      <td>no</td>\n",
       "      <td>0</td>\n",
       "      <td>243.4</td>\n",
       "      <td>114</td>\n",
       "      <td>41.38</td>\n",
       "      <td>...</td>\n",
       "      <td>110</td>\n",
       "      <td>10.30</td>\n",
       "      <td>162.6</td>\n",
       "      <td>104</td>\n",
       "      <td>7.32</td>\n",
       "      <td>12.2</td>\n",
       "      <td>5</td>\n",
       "      <td>3.29</td>\n",
       "      <td>0</td>\n",
       "      <td>False</td>\n",
       "    </tr>\n",
       "    <tr>\n",
       "      <th>3</th>\n",
       "      <td>OH</td>\n",
       "      <td>84</td>\n",
       "      <td>408</td>\n",
       "      <td>375-9999</td>\n",
       "      <td>yes</td>\n",
       "      <td>no</td>\n",
       "      <td>0</td>\n",
       "      <td>299.4</td>\n",
       "      <td>71</td>\n",
       "      <td>50.90</td>\n",
       "      <td>...</td>\n",
       "      <td>88</td>\n",
       "      <td>5.26</td>\n",
       "      <td>196.9</td>\n",
       "      <td>89</td>\n",
       "      <td>8.86</td>\n",
       "      <td>6.6</td>\n",
       "      <td>7</td>\n",
       "      <td>1.78</td>\n",
       "      <td>2</td>\n",
       "      <td>False</td>\n",
       "    </tr>\n",
       "    <tr>\n",
       "      <th>4</th>\n",
       "      <td>OK</td>\n",
       "      <td>75</td>\n",
       "      <td>415</td>\n",
       "      <td>330-6626</td>\n",
       "      <td>yes</td>\n",
       "      <td>no</td>\n",
       "      <td>0</td>\n",
       "      <td>166.7</td>\n",
       "      <td>113</td>\n",
       "      <td>28.34</td>\n",
       "      <td>...</td>\n",
       "      <td>122</td>\n",
       "      <td>12.61</td>\n",
       "      <td>186.9</td>\n",
       "      <td>121</td>\n",
       "      <td>8.41</td>\n",
       "      <td>10.1</td>\n",
       "      <td>3</td>\n",
       "      <td>2.73</td>\n",
       "      <td>3</td>\n",
       "      <td>False</td>\n",
       "    </tr>\n",
       "  </tbody>\n",
       "</table>\n",
       "<p>5 rows × 21 columns</p>\n",
       "</div>"
      ],
      "text/plain": [
       "  state  account length  area code phone number international plan  \\\n",
       "0    KS             128        415     382-4657                 no   \n",
       "1    OH             107        415     371-7191                 no   \n",
       "2    NJ             137        415     358-1921                 no   \n",
       "3    OH              84        408     375-9999                yes   \n",
       "4    OK              75        415     330-6626                yes   \n",
       "\n",
       "  voice mail plan  number vmail messages  total day minutes  total day calls  \\\n",
       "0             yes                     25              265.1              110   \n",
       "1             yes                     26              161.6              123   \n",
       "2              no                      0              243.4              114   \n",
       "3              no                      0              299.4               71   \n",
       "4              no                      0              166.7              113   \n",
       "\n",
       "   total day charge  ...  total eve calls  total eve charge  \\\n",
       "0             45.07  ...               99             16.78   \n",
       "1             27.47  ...              103             16.62   \n",
       "2             41.38  ...              110             10.30   \n",
       "3             50.90  ...               88              5.26   \n",
       "4             28.34  ...              122             12.61   \n",
       "\n",
       "   total night minutes  total night calls  total night charge  \\\n",
       "0                244.7                 91               11.01   \n",
       "1                254.4                103               11.45   \n",
       "2                162.6                104                7.32   \n",
       "3                196.9                 89                8.86   \n",
       "4                186.9                121                8.41   \n",
       "\n",
       "   total intl minutes  total intl calls  total intl charge  \\\n",
       "0                10.0                 3               2.70   \n",
       "1                13.7                 3               3.70   \n",
       "2                12.2                 5               3.29   \n",
       "3                 6.6                 7               1.78   \n",
       "4                10.1                 3               2.73   \n",
       "\n",
       "   customer service calls  churn  \n",
       "0                       1  False  \n",
       "1                       1  False  \n",
       "2                       0  False  \n",
       "3                       2  False  \n",
       "4                       3  False  \n",
       "\n",
       "[5 rows x 21 columns]"
      ]
     },
     "execution_count": 1126,
     "metadata": {},
     "output_type": "execute_result"
    }
   ],
   "source": [
    "df = pd.read_csv(\"churn.csv\" , sep=r'\\s*,\\s*', header=0, encoding='ascii', engine='python')\n",
    "df1 = pd.read_csv(\"churn.csv\", sep=r'\\s*,\\s*', header=0, encoding='ascii', engine='python')\n",
    "df.head(5)"
   ]
  },
  {
   "cell_type": "code",
   "execution_count": 1138,
   "metadata": {},
   "outputs": [
    {
     "data": {
      "text/plain": [
       "False    85.508551\n",
       "True     14.491449\n",
       "Name: churn, dtype: float64"
      ]
     },
     "execution_count": 1138,
     "metadata": {},
     "output_type": "execute_result"
    }
   ],
   "source": [
    "# Calculate proportion of class labels in target feature.\n",
    "df['churn'].value_counts(normalize=True).mul(100)"
   ]
  },
  {
   "cell_type": "markdown",
   "metadata": {},
   "source": [
    "From the above percentages, it is apparent that there is a class imbalance in the target feature. Only 15.5% of customers fall under the class True, i.e. churned customers. Several approaches are taken throughout the project to tackle the class imbalance."
   ]
  },
  {
   "cell_type": "markdown",
   "metadata": {},
   "source": [
    " "
   ]
  },
  {
   "cell_type": "markdown",
   "metadata": {},
   "source": [
    "<b> Preprocess data and create train, validate and test sets </b>"
   ]
  },
  {
   "cell_type": "code",
   "execution_count": 1136,
   "metadata": {},
   "outputs": [],
   "source": [
    "# Encode international plan and voicemail plan into binary format. \n",
    "international_plan_class = pd.get_dummies(df['international plan'],drop_first=True).rename(columns={'yes':'international plan'})\n",
    "voicemail_plan_class = pd.get_dummies(df['voice mail plan'],drop_first=True).rename(columns={'yes':'voice mail plan'})\n",
    "# Apply One Hot Encoding to the State variable. \n",
    "state_class = df['state'].str.get_dummies()"
   ]
  },
  {
   "cell_type": "code",
   "execution_count": 4,
   "metadata": {},
   "outputs": [],
   "source": [
    "df = df.drop(['international plan','voice mail plan', 'state', 'area code', 'phone number'], axis=1)"
   ]
  },
  {
   "cell_type": "code",
   "execution_count": 5,
   "metadata": {},
   "outputs": [],
   "source": [
    "df = pd.concat([state_class, international_plan_class, voicemail_plan_class, df], axis=1)"
   ]
  },
  {
   "cell_type": "code",
   "execution_count": 6,
   "metadata": {},
   "outputs": [],
   "source": [
    "y = df['churn']\n",
    "X = df.drop(['churn'], axis=1)"
   ]
  },
  {
   "cell_type": "code",
   "execution_count": 7,
   "metadata": {},
   "outputs": [],
   "source": [
    "# split data by 60% train set, 20% validation set, 20% test set. \n",
    "train_set_X, test_X, train_set_y, test_y = train_test_split(X, y, test_size=0.2, stratify=y, random_state=1)\n",
    "train_X, validate_X, train_y, validate_y = train_test_split(train_set_X, train_set_y, test_size=0.25, random_state=1)"
   ]
  },
  {
   "cell_type": "markdown",
   "metadata": {},
   "source": [
    "For the SVM and KNN classifiers, continuous features will need to be scaled. Due to limitations experienced with the StandardScaler function, the split process will need to be duplicated. However random_state is employed to ensure the scaled and unscaled samples are identical. "
   ]
  },
  {
   "cell_type": "code",
   "execution_count": 8,
   "metadata": {},
   "outputs": [],
   "source": [
    "train_set_Xs, test_Xs, train_set_ys, test_ys = train_test_split(X, y, test_size=0.2, stratify=y, random_state=1)\n",
    "train_Xs, validate_Xs, train_ys, validate_ys = train_test_split(train_set_Xs, train_set_ys, test_size=0.25, random_state=1)"
   ]
  },
  {
   "cell_type": "code",
   "execution_count": 10,
   "metadata": {},
   "outputs": [],
   "source": [
    "# Scaling continuous features. The features that have been encoded are left as-is. \n",
    "scaler = StandardScaler()\n",
    "\n",
    "cols_scale = ['account length', 'number vmail messages', 'total day minutes', \n",
    "              'total day calls', 'total day charge', 'total eve minutes', \n",
    "              'total eve calls', 'total eve charge', 'total night minutes', \n",
    "              'total night calls', 'total night charge', 'total intl minutes', \n",
    "              'total intl calls', 'total intl charge', 'customer service calls']\n",
    "\n",
    "train_Xs = train_Xs.copy()\n",
    "validate_Xs = validate_Xs.copy()\n",
    "test_Xs = test_Xs.copy()\n",
    "\n",
    "train_Xs[cols_scale] = scaler.fit_transform(train_Xs[cols_scale]).astype(float)\n",
    "validate_Xs[cols_scale] = scaler.fit_transform(validate_Xs[cols_scale]).astype(float)\n",
    "test_Xs[cols_scale] = scaler.fit_transform(test_Xs[cols_scale]).astype(float)"
   ]
  },
  {
   "cell_type": "code",
   "execution_count": null,
   "metadata": {},
   "outputs": [],
   "source": []
  },
  {
   "cell_type": "markdown",
   "metadata": {},
   "source": [
    "## Compare algorithms using 5-fold cross-validation"
   ]
  },
  {
   "cell_type": "markdown",
   "metadata": {},
   "source": [
    "5-fold cross-validation will be used on the test data to shortlist the three strongest performing algorithm. The metric used to determine performance is the f1-score for the class \"True\". This metric is chosen over accuracy due to class imbalance in the target feature. Class imbalance is treated further by employing stratified sampling with CV."
   ]
  },
  {
   "cell_type": "code",
   "execution_count": 14,
   "metadata": {},
   "outputs": [],
   "source": [
    "sk5fold = StratifiedKFold(n_splits=5, shuffle=True, random_state=100)\n",
    "logreg_score = []\n",
    "dtree_score = []\n",
    "rf_score = []\n",
    "gb_score = []\n",
    "knn_score = []\n",
    "svc_score = []\n",
    "\n",
    "for train_index, test_index in sk5fold.split(train_X, train_y):\n",
    "    X_train, X_test = train_X.iloc[train_index], train_X.iloc[test_index]\n",
    "    y_train, y_test = train_y.iloc[train_index], train_y.iloc[test_index]\n",
    "\n",
    "    # Logistic Regression\n",
    "    model_logreg = LogisticRegression(solver='lbfgs', max_iter=4000)\n",
    "    model_logreg.fit(X_train, y_train)\n",
    "    f1_logreg = f1_score(y_test, model_logreg.predict(X_test), average='binary')\n",
    "    logreg_score.append(f1_logreg)    \n",
    "\n",
    "    # Decision Tree   \n",
    "    model_dtree = DecisionTreeClassifier()\n",
    "    model_dtree.fit(X_train, y_train)\n",
    "    f1_dtree = f1_score(y_test, model_dtree.predict(X_test), average='binary')\n",
    "    dtree_score.append(f1_dtree)\n",
    "\n",
    "    # Random Forest \n",
    "    model_rf = RandomForestClassifier(n_estimators=100)\n",
    "    model_rf.fit(X_train, y_train)\n",
    "    f1_rf = f1_score(y_test, model_rf.predict(X_test), average='binary')\n",
    "    rf_score.append(f1_rf)\n",
    "\n",
    "    # Gradient Boosting\n",
    "    model_gb = GradientBoostingClassifier()\n",
    "    model_gb.fit(X_train, y_train)\n",
    "    f1_gb = f1_score(y_test, model_gb.predict(X_test), average='binary')\n",
    "    gb_score.append(f1_gb)\n",
    "\n",
    "    \n",
    "for train_index, test_index in sk5fold.split(train_Xs, train_ys):\n",
    "    Xs_train, Xs_test = train_Xs.iloc[train_index], train_Xs.iloc[test_index]\n",
    "    ys_train, ys_test = train_ys.iloc[train_index], train_ys.iloc[test_index]\n",
    "\n",
    "    # K Nearest Neighbors   \n",
    "    model_knn = KNeighborsClassifier()\n",
    "    model_knn.fit(Xs_train, ys_train)\n",
    "    f1_knn = f1_score(ys_test, model_knn.predict(Xs_test), average='binary')\n",
    "    knn_score.append(f1_knn)\n",
    "\n",
    "    # Support Vector Machines    \n",
    "    model_svc = SVC(gamma='scale')\n",
    "    model_svc.fit(Xs_train, ys_train)\n",
    "    f1_svc = f1_score(ys_test, model_svc.predict(Xs_test), average='binary')\n",
    "    svc_score.append(f1_svc)"
   ]
  },
  {
   "cell_type": "code",
   "execution_count": 861,
   "metadata": {},
   "outputs": [
    {
     "data": {
      "text/html": [
       "<div>\n",
       "<style scoped>\n",
       "    .dataframe tbody tr th:only-of-type {\n",
       "        vertical-align: middle;\n",
       "    }\n",
       "\n",
       "    .dataframe tbody tr th {\n",
       "        vertical-align: top;\n",
       "    }\n",
       "\n",
       "    .dataframe thead th {\n",
       "        text-align: right;\n",
       "    }\n",
       "</style>\n",
       "<table border=\"1\" class=\"dataframe\">\n",
       "  <thead>\n",
       "    <tr style=\"text-align: right;\">\n",
       "      <th></th>\n",
       "      <th>Classifier</th>\n",
       "      <th>Average f1</th>\n",
       "    </tr>\n",
       "  </thead>\n",
       "  <tbody>\n",
       "    <tr>\n",
       "      <th>0</th>\n",
       "      <td>Logistic Regression</td>\n",
       "      <td>29.163609</td>\n",
       "    </tr>\n",
       "    <tr>\n",
       "      <th>1</th>\n",
       "      <td>Decision Tree</td>\n",
       "      <td>66.231386</td>\n",
       "    </tr>\n",
       "    <tr>\n",
       "      <th>2</th>\n",
       "      <td>Random Forest</td>\n",
       "      <td>65.857698</td>\n",
       "    </tr>\n",
       "    <tr>\n",
       "      <th>3</th>\n",
       "      <td>Gradient Boosting</td>\n",
       "      <td>77.924837</td>\n",
       "    </tr>\n",
       "    <tr>\n",
       "      <th>4</th>\n",
       "      <td>KNN</td>\n",
       "      <td>35.369074</td>\n",
       "    </tr>\n",
       "    <tr>\n",
       "      <th>5</th>\n",
       "      <td>SVM</td>\n",
       "      <td>46.854457</td>\n",
       "    </tr>\n",
       "  </tbody>\n",
       "</table>\n",
       "</div>"
      ],
      "text/plain": [
       "            Classifier  Average f1\n",
       "0  Logistic Regression   29.163609\n",
       "1        Decision Tree   66.231386\n",
       "2        Random Forest   65.857698\n",
       "3    Gradient Boosting   77.924837\n",
       "4                  KNN   35.369074\n",
       "5                  SVM   46.854457"
      ]
     },
     "execution_count": 861,
     "metadata": {},
     "output_type": "execute_result"
    }
   ],
   "source": [
    "classifiers = ['Logistic Regression', 'Decision Tree', 'Random Forest', 'Gradient Boosting', 'KNN', 'SVM']\n",
    "scores = [logreg_score, dtree_score, rf_score, gb_score, knn_score, svc_score]\n",
    "average_f1 = []\n",
    "for name in scores:\n",
    "    average_f1.append(sum(name)/5*100)\n",
    "\n",
    "models = pd.DataFrame(data=list(zip(classifiers, average_f1)),columns=['Classifier','Average f1'])\n",
    "models"
   ]
  },
  {
   "cell_type": "code",
   "execution_count": 23,
   "metadata": {},
   "outputs": [
    {
     "data": {
      "text/plain": [
       "(20, 80)"
      ]
     },
     "execution_count": 23,
     "metadata": {},
     "output_type": "execute_result"
    },
    {
     "data": {
      "image/png": "[encoded data removed]",
      "text/plain": [
       "<Figure size 720x360 with 1 Axes>"
      ]
     },
     "metadata": {
      "needs_background": "light"
     },
     "output_type": "display_data"
    }
   ],
   "source": [
    "plt.figure(figsize=(10, 5))\n",
    "sns.barplot(x='Classifier', y='Average f1 for True', data = models, palette='Blues')\n",
    "plt.ylim(20, 80)"
   ]
  },
  {
   "cell_type": "markdown",
   "metadata": {},
   "source": [
    "Based on the results above we will proceed with the Decision Tree, Random Forest and Gradient Boosting for classification. The next step will involve optimizing the hyperparameters of each model by testing them on the validation set. "
   ]
  },
  {
   "cell_type": "markdown",
   "metadata": {},
   "source": [
    " "
   ]
  },
  {
   "cell_type": "markdown",
   "metadata": {},
   "source": [
    "## <b> Decision Tree as a Classifier </b> "
   ]
  },
  {
   "cell_type": "markdown",
   "metadata": {},
   "source": [
    "First, predict model on the validation set and use as a baseline to compare the performance increase from tuning hyperparamters."
   ]
  },
  {
   "cell_type": "code",
   "execution_count": 24,
   "metadata": {},
   "outputs": [],
   "source": [
    "predictions_dtree = model_dtree.predict(validate_X)"
   ]
  },
  {
   "cell_type": "code",
   "execution_count": 25,
   "metadata": {},
   "outputs": [
    {
     "name": "stdout",
     "output_type": "stream",
     "text": [
      "              precision    recall  f1-score   support\n",
      "\n",
      "       False       0.95      0.96      0.96       564\n",
      "        True       0.77      0.75      0.76       103\n",
      "\n",
      "   micro avg       0.93      0.93      0.93       667\n",
      "   macro avg       0.86      0.85      0.86       667\n",
      "weighted avg       0.93      0.93      0.93       667\n",
      "\n",
      "\n",
      "\n"
     ]
    },
    {
     "data": {
      "image/png": "[encoded data removed]",
      "text/plain": [
       "<Figure size 432x288 with 2 Axes>"
      ]
     },
     "metadata": {
      "needs_background": "light"
     },
     "output_type": "display_data"
    }
   ],
   "source": [
    "print(classification_report(validate_y,predictions_dtree))\n",
    "print('\\n')\n",
    "sns.heatmap(confusion_matrix(validate_y,predictions_dtree), annot=True, cmap='Blues', fmt='g');"
   ]
  },
  {
   "cell_type": "markdown",
   "metadata": {},
   "source": [
    "A grid search of all specified hyperparameters will be conducted to determine the optinimal combination of parameters. For the decision tree, three hyperparameters are under consideration - max_depth, min_samples_split, and min_samples_leaf.\n",
    "\n",
    "Before running GridSearchCV, the evaluation metric and CV method must be defined."
   ]
  },
  {
   "cell_type": "code",
   "execution_count": 594,
   "metadata": {},
   "outputs": [],
   "source": [
    "# Create callable metric based on f1-score of True class.\n",
    "f1_scorer = make_scorer(f1_score, pos_label=True)\n",
    "\n",
    "# Define stratified sampling method to be used with GridSearchCV.\n",
    "skfold = StratifiedKFold(n_splits=5)"
   ]
  },
  {
   "cell_type": "code",
   "execution_count": 521,
   "metadata": {},
   "outputs": [
    {
     "name": "stdout",
     "output_type": "stream",
     "text": [
      "{'criterion': 'entropy', 'max_depth': 6, 'min_samples_leaf': 1, 'min_samples_split': 6}\n"
     ]
    }
   ],
   "source": [
    "param_grid = {'max_depth': range(1, 11), 'min_samples_leaf': range(1, 11), 'min_samples_split': range(2, 11), \n",
    "              'criterion': ['gini','entropy']}\n",
    "gs_dtree = GridSearchCV(model_dtree, param_grid, cv=skfold, scoring=f1_scorer)\n",
    "gs_dtree.fit(X_train,y_train)\n",
    "print(gs_dtree.best_params_)"
   ]
  },
  {
   "cell_type": "code",
   "execution_count": 524,
   "metadata": {},
   "outputs": [],
   "source": [
    "# Evaluate new model using parameters above.\n",
    "tuned_dtree = DecisionTreeClassifier(criterion = 'entropy', max_depth = 6, min_samples_leaf = 1, min_samples_split = 6)\n",
    "tuned_dtree.fit(X_train, y_train)\n",
    "predictions_tuned_dtree = tuned_dtree.predict(validate_X)"
   ]
  },
  {
   "cell_type": "code",
   "execution_count": 525,
   "metadata": {},
   "outputs": [
    {
     "name": "stdout",
     "output_type": "stream",
     "text": [
      "              precision    recall  f1-score   support\n",
      "\n",
      "       False       0.96      0.98      0.97       564\n",
      "        True       0.90      0.80      0.85       103\n",
      "\n",
      "   micro avg       0.96      0.96      0.96       667\n",
      "   macro avg       0.93      0.89      0.91       667\n",
      "weighted avg       0.95      0.96      0.95       667\n",
      "\n",
      "\n",
      "\n"
     ]
    },
    {
     "data": {
      "image/png": "[encoded data removed]",
      "text/plain": [
       "<Figure size 432x288 with 2 Axes>"
      ]
     },
     "metadata": {
      "needs_background": "light"
     },
     "output_type": "display_data"
    }
   ],
   "source": [
    "print(classification_report(validate_y, predictions_tuned_dtree))\n",
    "print('\\n')\n",
    "sns.heatmap(confusion_matrix(validate_y, predictions_tuned_dtree), annot=True, cmap='Blues', fmt='g');"
   ]
  },
  {
   "cell_type": "markdown",
   "metadata": {},
   "source": [
    "Performance increase from tuning can be observed. Using this new model we will plot precision against recall to visualize the trade-off and select a new decision threshold that fits our task."
   ]
  },
  {
   "cell_type": "code",
   "execution_count": 1030,
   "metadata": {},
   "outputs": [
    {
     "data": {
      "image/png": "[encoded data removed]",
      "text/plain": [
       "<Figure size 864x432 with 1 Axes>"
      ]
     },
     "metadata": {
      "needs_background": "light"
     },
     "output_type": "display_data"
    }
   ],
   "source": [
    "# create function to plot PR curve.\n",
    "def plot_pr_curve(model):\n",
    "    y_scores = cross_val_predict(model, train_set_X, train_set_y, cv=5, method=\"predict_proba\")\n",
    "    precisions, recalls, thresholds = precision_recall_curve(train_set_y, y_scores[:, 1], pos_label=True)\n",
    "    plt.figure(figsize=(12, 6))\n",
    "    plt.plot(thresholds, precisions[:-1], label=\"Precision\")\n",
    "    plt.plot(thresholds, recalls[:-1], label=\"Recall\")\n",
    "    plt.axvline(x=0.5, linewidth = 0.5, color = 'black', linestyle='--', dashes=(5, 5))\n",
    "    plt.xlabel(\"Threshold\")\n",
    "    plt.ylim([0, 1])\n",
    "    plt.legend(bbox_to_anchor=(1.05, 1), loc=2, borderaxespad=0.)\n",
    "\n",
    "# Pass in tuned model into function\n",
    "plot_pr_curve(tuned_dtree)\n",
    "plt.show()"
   ]
  },
  {
   "cell_type": "markdown",
   "metadata": {},
   "source": [
    "Ideally the model should not overlook customers who are potentially churning and falsely classify them as not. In other words it would be acceptable to increase recall at the expense of some precision. As per the PR curve, this means choosing a threshold value left of the default 50% threshold.\n",
    "\n",
    "However based on the plot, it does not appear that much recall can be gained for a drop in precision. Various threshold levels are also tested using the code below. In conclusion, the default threshold of 50% is retained."
   ]
  },
  {
   "cell_type": "code",
   "execution_count": 1050,
   "metadata": {},
   "outputs": [],
   "source": [
    "threshold_dtree = 0.5\n",
    "predictions_tuned_dtree = tuned_dtree.predict_proba(validate_X)\n",
    "predictions_tuned_dtree = np.where(predictions_tuned_dtree[:,1] >= threshold_dtree, True, False)"
   ]
  },
  {
   "cell_type": "code",
   "execution_count": 1051,
   "metadata": {},
   "outputs": [
    {
     "name": "stdout",
     "output_type": "stream",
     "text": [
      "              precision    recall  f1-score   support\n",
      "\n",
      "       False       0.96      0.98      0.97       564\n",
      "        True       0.90      0.80      0.85       103\n",
      "\n",
      "   micro avg       0.96      0.96      0.96       667\n",
      "   macro avg       0.93      0.89      0.91       667\n",
      "weighted avg       0.95      0.96      0.95       667\n",
      "\n",
      "\n",
      "\n"
     ]
    },
    {
     "data": {
      "image/png": "[encoded data removed]",
      "text/plain": [
       "<Figure size 432x288 with 2 Axes>"
      ]
     },
     "metadata": {
      "needs_background": "light"
     },
     "output_type": "display_data"
    }
   ],
   "source": [
    "print(classification_report(validate_y, predictions_tuned_dtree))\n",
    "print('\\n')\n",
    "sns.heatmap(confusion_matrix(validate_y, predictions_tuned_dtree), annot=True, cmap='Blues', fmt='g');"
   ]
  },
  {
   "cell_type": "markdown",
   "metadata": {},
   "source": [
    "The final model produces a precision of 90% and a recall of 80% for the True class. That is to say that the model guessed an observation to be in the class True 91 times and was right 82 of those times (90%). In addition, out of 103 observations that are actually in the class True, the model classified 82 of them as True (80%)."
   ]
  },
  {
   "cell_type": "markdown",
   "metadata": {},
   "source": [
    " "
   ]
  },
  {
   "cell_type": "markdown",
   "metadata": {},
   "source": [
    "## <b> Random Forest as a Classifier </b>"
   ]
  },
  {
   "cell_type": "markdown",
   "metadata": {},
   "source": [
    "The same approach to fine-tuning and selection of an approrpiate decision threshold is applied to the Random Forest classifer."
   ]
  },
  {
   "cell_type": "code",
   "execution_count": 59,
   "metadata": {},
   "outputs": [],
   "source": [
    "predictions_rf = model_rf.predict(validate_X)"
   ]
  },
  {
   "cell_type": "code",
   "execution_count": 60,
   "metadata": {},
   "outputs": [
    {
     "name": "stdout",
     "output_type": "stream",
     "text": [
      "              precision    recall  f1-score   support\n",
      "\n",
      "       False       0.92      1.00      0.96       564\n",
      "        True       1.00      0.50      0.67       103\n",
      "\n",
      "   micro avg       0.92      0.92      0.92       667\n",
      "   macro avg       0.96      0.75      0.81       667\n",
      "weighted avg       0.93      0.92      0.91       667\n",
      "\n",
      "\n",
      "\n"
     ]
    },
    {
     "data": {
      "image/png": "[encoded data removed]",
      "text/plain": [
       "<Figure size 432x288 with 2 Axes>"
      ]
     },
     "metadata": {
      "needs_background": "light"
     },
     "output_type": "display_data"
    }
   ],
   "source": [
    "print(classification_report(validate_y,predictions_rf))\n",
    "print('\\n')\n",
    "sns.heatmap(confusion_matrix(validate_y,predictions_rf), annot=True, cmap='Blues', fmt='g');"
   ]
  },
  {
   "cell_type": "markdown",
   "metadata": {},
   "source": [
    "The purpose of the Random Forest technique is to take many overfitting trees (with high variance and low bias) and average them together. Therefore regularization of the tree in the model is not required."
   ]
  },
  {
   "cell_type": "code",
   "execution_count": 556,
   "metadata": {},
   "outputs": [
    {
     "name": "stdout",
     "output_type": "stream",
     "text": [
      "{'max_features': 40, 'n_estimators': 250}\n"
     ]
    }
   ],
   "source": [
    "param_grid = {'n_estimators': range(100,500,50), 'max_features': [10, 20, 30, 40, 50, 60, 68]}\n",
    "gs_rf = GridSearchCV(model_rf, param_grid, cv=skfold, scoring=f1_scorer)\n",
    "gs_rf.fit(X_train,y_train)\n",
    "print(gs_rf.best_params_)"
   ]
  },
  {
   "cell_type": "code",
   "execution_count": 557,
   "metadata": {},
   "outputs": [],
   "source": [
    "tuned_rf = RandomForestClassifier(max_features = 40, n_estimators=250)\n",
    "tuned_rf.fit(X_train, y_train)\n",
    "predictions_tuned_rf = tuned_rf.predict(validate_X)"
   ]
  },
  {
   "cell_type": "code",
   "execution_count": 558,
   "metadata": {},
   "outputs": [
    {
     "name": "stdout",
     "output_type": "stream",
     "text": [
      "              precision    recall  f1-score   support\n",
      "\n",
      "       False       0.96      0.99      0.98       564\n",
      "        True       0.94      0.79      0.86       103\n",
      "\n",
      "   micro avg       0.96      0.96      0.96       667\n",
      "   macro avg       0.95      0.89      0.92       667\n",
      "weighted avg       0.96      0.96      0.96       667\n",
      "\n",
      "\n",
      "\n"
     ]
    },
    {
     "data": {
      "image/png": "[encoded data removed]",
      "text/plain": [
       "<Figure size 432x288 with 2 Axes>"
      ]
     },
     "metadata": {
      "needs_background": "light"
     },
     "output_type": "display_data"
    }
   ],
   "source": [
    "print(classification_report(validate_y,predictions_tuned_rf))\n",
    "print('\\n')\n",
    "sns.heatmap(confusion_matrix(validate_y,predictions_tuned_rf), annot=True, cmap='Blues', fmt='g');"
   ]
  },
  {
   "cell_type": "markdown",
   "metadata": {},
   "source": [
    "Again looking at the True class, increasing the number of trees and reducing the number of features to decide on a split results in a 58% increase in recall, with accurancy reduced by only 4%. This model will be used to plot the PR curve in the next step."
   ]
  },
  {
   "cell_type": "code",
   "execution_count": 1031,
   "metadata": {},
   "outputs": [
    {
     "data": {
      "image/png": "[encoded data removed]",
      "text/plain": [
       "<Figure size 864x432 with 1 Axes>"
      ]
     },
     "metadata": {
      "needs_background": "light"
     },
     "output_type": "display_data"
    }
   ],
   "source": [
    "plot_pr_curve(tuned_rf)\n",
    "plt.show()"
   ]
  },
  {
   "cell_type": "code",
   "execution_count": 1053,
   "metadata": {},
   "outputs": [
    {
     "name": "stdout",
     "output_type": "stream",
     "text": [
      "              precision    recall  f1-score   support\n",
      "\n",
      "       False       0.97      0.98      0.98       564\n",
      "        True       0.91      0.83      0.87       103\n",
      "\n",
      "   micro avg       0.96      0.96      0.96       667\n",
      "   macro avg       0.94      0.91      0.92       667\n",
      "weighted avg       0.96      0.96      0.96       667\n",
      "\n",
      "\n",
      "\n"
     ]
    },
    {
     "data": {
      "image/png": "[encoded data removed]",
      "text/plain": [
       "<Figure size 432x288 with 2 Axes>"
      ]
     },
     "metadata": {
      "needs_background": "light"
     },
     "output_type": "display_data"
    }
   ],
   "source": [
    "# Set threshold to 40%\n",
    "threshold_rf = 0.4\n",
    "predictions_tuned_rf = tuned_rf.predict_proba(validate_X)\n",
    "predictions_tuned_rf = np.where(predictions_tuned_rf[:,1] >= threshold_rf, True, False)\n",
    "print(classification_report(validate_y,predictions_tuned_rf))\n",
    "print('\\n')\n",
    "sns.heatmap(confusion_matrix(validate_y,predictions_tuned_rf), annot=True, cmap='Blues', fmt='g');"
   ]
  },
  {
   "cell_type": "markdown",
   "metadata": {},
   "source": [
    "Setting the threshold to 40% reduces the precision from 94% to 91% but the recall increased from 79% to 83%. "
   ]
  },
  {
   "cell_type": "markdown",
   "metadata": {},
   "source": [
    " "
   ]
  },
  {
   "cell_type": "markdown",
   "metadata": {},
   "source": [
    "## <b> Gradient Boosting as a Classifier </b>"
   ]
  },
  {
   "cell_type": "markdown",
   "metadata": {},
   "source": [
    "Gradient boosting works by adding subsequent decision trees to correct the mistakes made by the one before it. There are two groups of hyperparameters to consider with tuning gradient boosting models, tree specific and boosting specific parameters. \n",
    "\n",
    "An initial model set to default parameters is evaluated. next the boosting specific paramenters are tuned and the resulting model is compared with the initial model. Finally the tree specific parameters are tuned and the final model is comapred with previous models to observe any perfomance increase."
   ]
  },
  {
   "cell_type": "code",
   "execution_count": 1067,
   "metadata": {},
   "outputs": [
    {
     "name": "stdout",
     "output_type": "stream",
     "text": [
      "              precision    recall  f1-score   support\n",
      "\n",
      "       False       0.94      0.99      0.96       570\n",
      "        True       0.89      0.64      0.74        97\n",
      "\n",
      "   micro avg       0.94      0.94      0.94       667\n",
      "   macro avg       0.91      0.81      0.85       667\n",
      "weighted avg       0.93      0.94      0.93       667\n",
      "\n"
     ]
    }
   ],
   "source": [
    "model_gbt = GradientBoostingClassifier()\n",
    "model_gbt.fit(X_train, y_train)\n",
    "predictions_gbt = model_gbt.predict(test_X)\n",
    "print(classification_report(test_y,predictions_gbt))"
   ]
  },
  {
   "cell_type": "code",
   "execution_count": 281,
   "metadata": {},
   "outputs": [
    {
     "name": "stdout",
     "output_type": "stream",
     "text": [
      "              precision    recall  f1-score   support\n",
      "\n",
      "       False       0.96      0.99      0.98       564\n",
      "        True       0.95      0.79      0.86       103\n",
      "\n",
      "   micro avg       0.96      0.96      0.96       667\n",
      "   macro avg       0.96      0.89      0.92       667\n",
      "weighted avg       0.96      0.96      0.96       667\n",
      "\n"
     ]
    }
   ],
   "source": [
    "# Begin with evaluating a model set with default parameters. Metrics gernerated to compare performance differences from tuning.\n",
    "model_gb1 = GradientBoostingClassifier()\n",
    "model_gb1.fit(X_train, y_train)\n",
    "predictions_gb1 = model_gb1.predict(validate_X)\n",
    "print(classification_report(validate_y,predictions_gb1))"
   ]
  },
  {
   "cell_type": "code",
   "execution_count": 595,
   "metadata": {},
   "outputs": [
    {
     "name": "stdout",
     "output_type": "stream",
     "text": [
      "{'learning_rate': 0.15, 'n_estimators': 250}\n"
     ]
    }
   ],
   "source": [
    "# Search for optimal combination of learning rate and number of estimators. \n",
    "param_grid = {'learning_rate': [0.3, 0.15, 0.1, 0.05, 0.01], 'n_estimators': range(50,500,50)}\n",
    "gs_gb = GridSearchCV(model_gb, param_grid, cv=skfold, scoring=f1_scorer)\n",
    "gs_gb.fit(X_train,y_train)\n",
    "print(gs_gb.best_params_)"
   ]
  },
  {
   "cell_type": "code",
   "execution_count": 643,
   "metadata": {},
   "outputs": [
    {
     "name": "stdout",
     "output_type": "stream",
     "text": [
      "{'max_features': 40}\n"
     ]
    }
   ],
   "source": [
    "# set learning rate to 0.15 and number of trees to 250. Then search for max number of features.  \n",
    "model_gb1 = GradientBoostingClassifier(learning_rate=0.15, n_estimators=250)\n",
    "param_grid_1 = {'max_features' : [10, 20, 30, 40, 50, 60, 68]}\n",
    "gs_gb1 = GridSearchCV(model_gb1, param_grid_3, cv=skfold, scoring=f1_scorer)\n",
    "gs_gb1.fit(X_train,y_train)\n",
    "print(gs_gb1.best_params_)"
   ]
  },
  {
   "cell_type": "code",
   "execution_count": 606,
   "metadata": {},
   "outputs": [
    {
     "name": "stdout",
     "output_type": "stream",
     "text": [
      "{'subsample': 1}\n"
     ]
    }
   ],
   "source": [
    "# Set max_features to 40, search for subsample size. \n",
    "model_gb1a = GradientBoostingClassifier(learning_rate=0.15, n_estimators=250, max_features = 30)\n",
    "param_grid_1 = {'subsample':[0.5, 0.6 ,0.7 ,0.8 ,0.9, 1]}\n",
    "gs_gb1a = GridSearchCV(model_gb1a, param_grid_1, cv=skfold, scoring=f1_scorer)\n",
    "gs_gb1a.fit(X_train,y_train)\n",
    "print(gs_gb1a.best_params_)"
   ]
  },
  {
   "cell_type": "code",
   "execution_count": 796,
   "metadata": {},
   "outputs": [
    {
     "name": "stdout",
     "output_type": "stream",
     "text": [
      "              precision    recall  f1-score   support\n",
      "\n",
      "       False       0.97      0.99      0.98       564\n",
      "        True       0.97      0.81      0.88       103\n",
      "\n",
      "   micro avg       0.97      0.97      0.97       667\n",
      "   macro avg       0.97      0.90      0.93       667\n",
      "weighted avg       0.97      0.97      0.96       667\n",
      "\n"
     ]
    }
   ],
   "source": [
    "# Evaulate model on validation set with new boosting parameters. \n",
    "model_gb2 = GradientBoostingClassifier(learning_rate=0.15, n_estimators=250, max_features = 40, subsample = 1)\n",
    "model_gb2.fit(X_train, y_train)\n",
    "predictions_gb2 = model_gb2.predict(validate_X)\n",
    "print(classification_report(validate_y,predictions_gb2))"
   ]
  },
  {
   "cell_type": "markdown",
   "metadata": {},
   "source": [
    "As per above, the new boosting parameters results in an increase to precision and recall for the class True. Both precision and recall increased two points. Using these settings, a grid search will be conducted on tree specific parameters."
   ]
  },
  {
   "cell_type": "code",
   "execution_count": 623,
   "metadata": {},
   "outputs": [
    {
     "name": "stdout",
     "output_type": "stream",
     "text": [
      "{'max_depth': 6}\n"
     ]
    }
   ],
   "source": [
    "# Begin grid search with max_depth\n",
    "model_gb2 = GradientBoostingClassifier(learning_rate=0.15, n_estimators=250, max_features = 40, subsample = 1)\n",
    "param_grid_2 = {'max_depth': range(1,11)}\n",
    "gs_gb_2 = GridSearchCV(model_gb2, param_grid_2, cv=skfold, scoring=f1_scorer)\n",
    "gs_gb_2.fit(X_train,y_train)\n",
    "print(gs_gb_2.best_params_)"
   ]
  },
  {
   "cell_type": "code",
   "execution_count": 640,
   "metadata": {},
   "outputs": [
    {
     "name": "stdout",
     "output_type": "stream",
     "text": [
      "{'min_samples_leaf': 6, 'min_samples_split': 7}\n"
     ]
    }
   ],
   "source": [
    "# Set max_depth to 6 and search for best combination of min_samples_split and min_samples_leaf. \n",
    "model_gb2a = GradientBoostingClassifier(learning_rate=0.15, n_estimators=250, max_features = 30, subsample = 1, max_depth = 6)\n",
    "param_grid_2a = {'min_samples_split': range(2,11), 'min_samples_leaf': range(1,11)}\n",
    "gs_gb_2a = GridSearchCV(model_gb2a, param_grid_2a, cv=skfold, scoring=f1_scorer)\n",
    "gs_gb_2a.fit(X_train,y_train)\n",
    "print(gs_gb_2a.best_params_)"
   ]
  },
  {
   "cell_type": "code",
   "execution_count": 804,
   "metadata": {
    "scrolled": true
   },
   "outputs": [
    {
     "name": "stdout",
     "output_type": "stream",
     "text": [
      "              precision    recall  f1-score   support\n",
      "\n",
      "       False       0.96      0.99      0.98       564\n",
      "        True       0.95      0.80      0.87       103\n",
      "\n",
      "   micro avg       0.96      0.96      0.96       667\n",
      "   macro avg       0.96      0.89      0.92       667\n",
      "weighted avg       0.96      0.96      0.96       667\n",
      "\n"
     ]
    }
   ],
   "source": [
    "# Evaluate model on validation set with new boosting and tree parameters. \n",
    "model_gb3 = GradientBoostingClassifier(learning_rate=0.15, n_estimators=250, max_features = 40, subsample = 1,\n",
    "                                      max_depth=6, min_samples_split=7, min_samples_leaf=6)\n",
    "model_gb3.fit(X_train, y_train)\n",
    "predictions_gb3 = model_gb3.predict(validate_X)\n",
    "print(classification_report(validate_y,predictions_gb3))"
   ]
  },
  {
   "cell_type": "markdown",
   "metadata": {},
   "source": [
    "It does not appear that regularizing the tree hyperparameters result in better performance for the model. As such, model_gb2 with tuned boosting parameters and default tree parameters will be used (max_depth=3, min_samples_split=2, min_samples_leaf=1) to plot the PR curve."
   ]
  },
  {
   "cell_type": "code",
   "execution_count": 1032,
   "metadata": {},
   "outputs": [
    {
     "data": {
      "image/png": "[encoded data removed]",
      "text/plain": [
       "<Figure size 864x432 with 1 Axes>"
      ]
     },
     "metadata": {
      "needs_background": "light"
     },
     "output_type": "display_data"
    }
   ],
   "source": [
    "plot_pr_curve(model_gb2)\n",
    "plt.show()"
   ]
  },
  {
   "cell_type": "code",
   "execution_count": 1052,
   "metadata": {},
   "outputs": [
    {
     "name": "stdout",
     "output_type": "stream",
     "text": [
      "              precision    recall  f1-score   support\n",
      "\n",
      "       False       0.97      0.99      0.98       564\n",
      "        True       0.94      0.85      0.89       103\n",
      "\n",
      "   micro avg       0.97      0.97      0.97       667\n",
      "   macro avg       0.95      0.92      0.94       667\n",
      "weighted avg       0.97      0.97      0.97       667\n",
      "\n"
     ]
    },
    {
     "data": {
      "image/png": "[encoded data removed]",
      "text/plain": [
       "<Figure size 432x288 with 2 Axes>"
      ]
     },
     "metadata": {
      "needs_background": "light"
     },
     "output_type": "display_data"
    }
   ],
   "source": [
    "threshold_gb = 0.4\n",
    "predictions_model_gb2 = model_gb2.predict_proba(validate_X)\n",
    "predictions_model_gb2= np.where(predictions_model_gb2[:,1] >= threshold_gb, True, False)\n",
    "print(classification_report(validate_y, predictions_model_gb2))\n",
    "sns.heatmap(confusion_matrix(validate_y,predictions_model_gb2), annot=True, cmap='Blues', fmt='g');"
   ]
  },
  {
   "cell_type": "markdown",
   "metadata": {},
   "source": [
    "Adjusting the decision threshold to 40% reducses the precison from 97% to 94% but increases recall from 81% to 85%."
   ]
  },
  {
   "cell_type": "markdown",
   "metadata": {},
   "source": [
    " "
   ]
  },
  {
   "cell_type": "markdown",
   "metadata": {},
   "source": [
    "## Comparison of Classifiers"
   ]
  },
  {
   "cell_type": "code",
   "execution_count": 1039,
   "metadata": {},
   "outputs": [],
   "source": [
    "# Create function to extract relevent info from classification report\n",
    "def report_to_df(report):\n",
    "    report = [x.split(' ') for x in report.split('\\n')]\n",
    "    header = ['class']+[x for x in report[0] if x!='']\n",
    "    values = []\n",
    "    for row in report[3:-5]:\n",
    "        row = [value for value in row if value!='']\n",
    "        if row!=[]:\n",
    "            values.append(row)\n",
    "    df_report = pd.DataFrame(data = values, columns = header)\n",
    "    return df_report"
   ]
  },
  {
   "cell_type": "code",
   "execution_count": 1054,
   "metadata": {},
   "outputs": [
    {
     "data": {
      "text/html": [
       "<div>\n",
       "<style scoped>\n",
       "    .dataframe tbody tr th:only-of-type {\n",
       "        vertical-align: middle;\n",
       "    }\n",
       "\n",
       "    .dataframe tbody tr th {\n",
       "        vertical-align: top;\n",
       "    }\n",
       "\n",
       "    .dataframe thead th {\n",
       "        text-align: right;\n",
       "    }\n",
       "</style>\n",
       "<table border=\"1\" class=\"dataframe\">\n",
       "  <thead>\n",
       "    <tr style=\"text-align: right;\">\n",
       "      <th></th>\n",
       "      <th>classifier</th>\n",
       "      <th>threshold</th>\n",
       "      <th>precision</th>\n",
       "      <th>recall</th>\n",
       "      <th>f1-score</th>\n",
       "    </tr>\n",
       "  </thead>\n",
       "  <tbody>\n",
       "    <tr>\n",
       "      <th>0</th>\n",
       "      <td>Decision Tree</td>\n",
       "      <td>0.5</td>\n",
       "      <td>0.90</td>\n",
       "      <td>0.80</td>\n",
       "      <td>0.85</td>\n",
       "    </tr>\n",
       "    <tr>\n",
       "      <th>0</th>\n",
       "      <td>Random Forest</td>\n",
       "      <td>0.4</td>\n",
       "      <td>0.91</td>\n",
       "      <td>0.83</td>\n",
       "      <td>0.87</td>\n",
       "    </tr>\n",
       "    <tr>\n",
       "      <th>0</th>\n",
       "      <td>Gradient Boosting</td>\n",
       "      <td>0.4</td>\n",
       "      <td>0.94</td>\n",
       "      <td>0.85</td>\n",
       "      <td>0.89</td>\n",
       "    </tr>\n",
       "  </tbody>\n",
       "</table>\n",
       "</div>"
      ],
      "text/plain": [
       "          classifier  threshold precision recall f1-score\n",
       "0      Decision Tree        0.5      0.90   0.80     0.85\n",
       "0      Random Forest        0.4      0.91   0.83     0.87\n",
       "0  Gradient Boosting        0.4      0.94   0.85     0.89"
      ]
     },
     "execution_count": 1054,
     "metadata": {},
     "output_type": "execute_result"
    }
   ],
   "source": [
    "final_models = pd.concat([report_to_df(classification_report(validate_y, predictions_tuned_dtree)),\n",
    "                          report_to_df(classification_report(validate_y, predictions_tuned_rf)),\n",
    "                          report_to_df(classification_report(validate_y, predictions_model_gb2))])\n",
    "\n",
    "final_models.insert(0, 'classifier', ['Decision Tree', 'Random Forest', 'Gradient Boosting'])\n",
    "final_models.insert(1, 'threshold', [threshold_dtree, threshold_rf, threshold_gb])\n",
    "final_models = final_models.drop(['class','support'], axis=1)\n",
    "final_models"
   ]
  },
  {
   "cell_type": "markdown",
   "metadata": {},
   "source": [
    "It can be observed from the above metrics that gradient boosting model predicted churning customers on the validation set more accurately than the decision tree and random forest model.\n",
    "\n",
    "A more insightful way to compare model performance is to visualize the model at every threshold level. To do this, the PR curve is generated for each model. The average precision score summerize each curve and measures the AUC of the PR curve."
   ]
  },
  {
   "cell_type": "code",
   "execution_count": 1037,
   "metadata": {},
   "outputs": [
    {
     "data": {
      "image/png": "[encoded data removed]",
      "text/plain": [
       "<Figure size 864x576 with 1 Axes>"
      ]
     },
     "metadata": {
      "needs_background": "light"
     },
     "output_type": "display_data"
    }
   ],
   "source": [
    "# Plotting precision against recall for each classifier.\n",
    "predictions_model_dtree = tuned_dtree.predict_proba(validate_X)[:,1]\n",
    "dtree_precision, dtree_recall, _ = precision_recall_curve(validate_y, predictions_model_dtree, pos_label=True)\n",
    "\n",
    "predictions_model_rf = tuned_rf.predict_proba(validate_X)[:,1]\n",
    "rf_precision, rf_recall, _ = precision_recall_curve(validate_y, predictions_model_rf, pos_label=True)\n",
    "\n",
    "prediction_model_gb2 = model_gb2.predict_proba(validate_X)[:,1]\n",
    "gb_precision, gb_recall, _ = precision_recall_curve(validate_y, prediction_model_gb2, pos_label=True)\n",
    "\n",
    "# Calculating average precision score. \n",
    "dtree_auc = average_precision_score(validate_y, predictions_model_dtree, pos_label=True)\n",
    "rf_auc = average_precision_score(validate_y, predictions_model_rf, pos_label=True)\n",
    "gb_auc = average_precision_score(validate_y, prediction_model_gb2, pos_label=True)\n",
    "\n",
    "\n",
    "plt.figure(figsize=(12,8))\n",
    "plt.plot(dtree_precision, dtree_recall, label = ('Decision Tree AP: %.3f' % dtree_auc))\n",
    "plt.plot(rf_precision, rf_recall, label = ('Random Forest AP: %.3f' % rf_auc))\n",
    "plt.plot(gb_precision, gb_recall, label=('Gradient Boosting: %.3f' % gb_auc))\n",
    "plt.xlabel('Recall')\n",
    "plt.ylabel('Precision')\n",
    "plt.legend(bbox_to_anchor=(1.05, 1), loc=2, borderaxespad=0.)\n",
    "plt.show()"
   ]
  },
  {
   "cell_type": "markdown",
   "metadata": {},
   "source": [
    "The curve representing the gradient boosting model is closest to the top right corner for the graph, in addition the average precision score or area under the curve for this model is the highest of the three scores, at 92.6%."
   ]
  },
  {
   "cell_type": "markdown",
   "metadata": {},
   "source": [
    " "
   ]
  },
  {
   "cell_type": "markdown",
   "metadata": {},
   "source": [
    "## Final Testing of each Model"
   ]
  },
  {
   "cell_type": "markdown",
   "metadata": {},
   "source": [
    "The test_X and test_y data splits have been untouched up until this point. It would be ideal to fit and predict each model on these splits to conduct final testing on the performance of each model."
   ]
  },
  {
   "cell_type": "code",
   "execution_count": 1097,
   "metadata": {},
   "outputs": [
    {
     "data": {
      "text/html": [
       "<div>\n",
       "<style scoped>\n",
       "    .dataframe tbody tr th:only-of-type {\n",
       "        vertical-align: middle;\n",
       "    }\n",
       "\n",
       "    .dataframe tbody tr th {\n",
       "        vertical-align: top;\n",
       "    }\n",
       "\n",
       "    .dataframe thead th {\n",
       "        text-align: right;\n",
       "    }\n",
       "</style>\n",
       "<table border=\"1\" class=\"dataframe\">\n",
       "  <thead>\n",
       "    <tr style=\"text-align: right;\">\n",
       "      <th></th>\n",
       "      <th>classifier</th>\n",
       "      <th>threshold</th>\n",
       "      <th>precision</th>\n",
       "      <th>recall</th>\n",
       "      <th>f1-score</th>\n",
       "    </tr>\n",
       "  </thead>\n",
       "  <tbody>\n",
       "    <tr>\n",
       "      <th>0</th>\n",
       "      <td>Decision Tree</td>\n",
       "      <td>0.5</td>\n",
       "      <td>0.79</td>\n",
       "      <td>0.74</td>\n",
       "      <td>0.77</td>\n",
       "    </tr>\n",
       "    <tr>\n",
       "      <th>0</th>\n",
       "      <td>Random Forest</td>\n",
       "      <td>0.4</td>\n",
       "      <td>0.88</td>\n",
       "      <td>0.80</td>\n",
       "      <td>0.84</td>\n",
       "    </tr>\n",
       "    <tr>\n",
       "      <th>0</th>\n",
       "      <td>Gradient Boosting</td>\n",
       "      <td>0.4</td>\n",
       "      <td>0.82</td>\n",
       "      <td>0.71</td>\n",
       "      <td>0.76</td>\n",
       "    </tr>\n",
       "  </tbody>\n",
       "</table>\n",
       "</div>"
      ],
      "text/plain": [
       "          classifier  threshold precision recall f1-score\n",
       "0      Decision Tree        0.5      0.79   0.74     0.77\n",
       "0      Random Forest        0.4      0.88   0.80     0.84\n",
       "0  Gradient Boosting        0.4      0.82   0.71     0.76"
      ]
     },
     "execution_count": 1097,
     "metadata": {},
     "output_type": "execute_result"
    }
   ],
   "source": [
    "# Tuned decision tree model at default threshold. \n",
    "final_predictions_dtree = tuned_dtree.predict(test_X)\n",
    "\n",
    "# Tuned random forest model at 40% threshold. \n",
    "final_predictions_rf = tuned_rf.predict_proba(test_X)\n",
    "final_predictions_rf = np.where(final_predictions_rf[:,1] >= threshold_rf, True, False)\n",
    "\n",
    "# Tuned gradient boosting model at 40% threshold.\n",
    "final_predictions_gb2 = model_gb2.predict_proba(test_X)\n",
    "final_predictions_gb2= np.where(final_predictions_gb2[:,1] >= threshold_gb, True, False)\n",
    "\n",
    "final_models = pd.concat([report_to_df(classification_report(test_y, final_predictions_dtree)),\n",
    "                          report_to_df(classification_report(test_y, final_predictions_rf)),\n",
    "                          report_to_df(classification_report(test_y, final_predictions_gb2))])\n",
    "\n",
    "final_models.insert(0, 'classifier', ['Decision Tree', 'Random Forest', 'Gradient Boosting'])\n",
    "final_models.insert(1, 'threshold', [threshold_dtree, threshold_rf, threshold_gb])\n",
    "final_models = final_models.drop(['class','support'], axis=1)\n",
    "final_models"
   ]
  },
  {
   "cell_type": "code",
   "execution_count": 1124,
   "metadata": {},
   "outputs": [
    {
     "data": {
      "image/png": "[encoded data removed]",
      "text/plain": [
       "<Figure size 1440x360 with 6 Axes>"
      ]
     },
     "metadata": {
      "needs_background": "light"
     },
     "output_type": "display_data"
    }
   ],
   "source": [
    "# Plot confusion matrix for each model\n",
    "fig, (ax1, ax2, ax3) = plt.subplots(1,3, figsize=(20,5))\n",
    "sns.heatmap(confusion_matrix(test_y, final_predictions_dtree), annot=True, cmap='Blues', fmt='g', ax=ax1)\n",
    "ax1.set_title('Decision Tree')\n",
    "sns.heatmap(confusion_matrix(test_y,final_predictions_rf), annot=True, cmap='Blues', fmt='g', ax=ax2)\n",
    "ax2.set_title('Random Forest')\n",
    "sns.heatmap(confusion_matrix(test_y, final_predictions_gb2), annot=True, cmap='Blues', fmt='g', ax=ax3)\n",
    "ax3.set_title('Gradient Boosting')\n",
    "plt.show()"
   ]
  },
  {
   "cell_type": "markdown",
   "metadata": {},
   "source": [
    "With unseen data, it appears that all three models perform weaker than on the training and validation sets. Both the decision and tree and gradient boosting model had a significant reduction in precision and recall. The random forest performed slightly worse with the test set than it did with the validation set, and overall was the strongest model among the three. \n",
    "\n",
    "Therefore, for the purpose of identifying customers that are potentially churning, it is recommended to use the model utilzing the random forest algorithm based on results from the test set. "
   ]
  },
  {
   "cell_type": "code",
   "execution_count": null,
   "metadata": {},
   "outputs": [],
   "source": []
  }
 ],
 "metadata": {
  "kernelspec": {
   "display_name": "Python 3",
   "language": "python",
   "name": "python3"
  },
  "language_info": {
   "codemirror_mode": {
    "name": "ipython",
    "version": 3
   },
   "file_extension": ".py",
   "mimetype": "text/x-python",
   "name": "python",
   "nbconvert_exporter": "python",
   "pygments_lexer": "ipython3",
   "version": "3.7.3"
  }
 },
 "nbformat": 4,
 "nbformat_minor": 2
}
